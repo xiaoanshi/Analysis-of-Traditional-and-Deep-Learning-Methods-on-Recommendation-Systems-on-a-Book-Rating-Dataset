{
  "nbformat": 4,
  "nbformat_minor": 0,
  "metadata": {
    "colab": {
      "name": "User_Based_Similarity_Framework.ipynb",
      "version": "0.3.2",
      "views": {},
      "default_view": {},
      "provenance": []
    },
    "kernelspec": {
      "name": "python3",
      "display_name": "Python 3"
    },
    "accelerator": "GPU"
  },
  "cells": [
    {
      "metadata": {
        "id": "yOxB03JtG14j",
        "colab_type": "text"
      },
      "cell_type": "markdown",
      "source": [
        "# Uploading the Data via Google (BX-Book-Ratings.csv)\n",
        "\n",
        "## Or otherwise compute on Local Host"
      ]
    },
    {
      "metadata": {
        "id": "gfHprKDvGNJD",
        "colab_type": "code",
        "colab": {
          "autoexec": {
            "startup": false,
            "wait_interval": 0
          },
          "resources": {
            "http://localhost:8080/nbextensions/google.colab/files.js": {
              "data": "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",
              "ok": true,
              "headers": [
                [
                  "content-type",
                  "application/javascript"
                ]
              ],
              "status": 200,
              "status_text": ""
            }
          },
          "base_uri": "https://localhost:8080/",
          "height": 72
        },
        "outputId": "a0e2145d-0a46-491f-a270-d2c6a10554f8",
        "executionInfo": {
          "status": "ok",
          "timestamp": 1524535592708,
          "user_tz": 240,
          "elapsed": 110314,
          "user": {
            "displayName": "Rachit Saluja",
            "photoUrl": "https://lh3.googleusercontent.com/a/default-user=s128",
            "userId": "117188840598763467877"
          }
        }
      },
      "cell_type": "code",
      "source": [
        "from google.colab import files\n",
        "\n",
        "uploaded = files.upload()"
      ],
      "execution_count": 1,
      "outputs": [
        {
          "output_type": "display_data",
          "data": {
            "text/html": [
              "\n",
              "     <input type=\"file\" id=\"files-ca49e80d-d81b-42ea-a701-c7f050c2de76\" name=\"files[]\" multiple disabled />\n",
              "     <output id=\"result-ca49e80d-d81b-42ea-a701-c7f050c2de76\">\n",
              "      Upload widget is only available when the cell has been executed in the\n",
              "      current browser session. Please rerun this cell to enable.\n",
              "      </output>\n",
              "      <script src=\"/nbextensions/google.colab/files.js\"></script> "
            ],
            "text/plain": [
              "<IPython.core.display.HTML object>"
            ]
          },
          "metadata": {
            "tags": []
          }
        },
        {
          "output_type": "stream",
          "text": [
            "Saving BX-Book-Ratings.csv to BX-Book-Ratings (1).csv\n"
          ],
          "name": "stdout"
        }
      ]
    },
    {
      "metadata": {
        "id": "HYNKxMyMIgI1",
        "colab_type": "text"
      },
      "cell_type": "markdown",
      "source": [
        "# Libraries Used"
      ]
    },
    {
      "metadata": {
        "id": "j54zZ5BEIhk1",
        "colab_type": "code",
        "colab": {
          "autoexec": {
            "startup": false,
            "wait_interval": 0
          }
        }
      },
      "cell_type": "code",
      "source": [
        "import numpy as np   \n",
        "import pandas as pd  \n",
        "\n",
        "from sklearn.metrics import mean_squared_error\n",
        "from math import sqrt\n",
        "from sklearn.metrics.pairwise import pairwise_distances\n",
        "import matplotlib.pyplot as plt\n",
        "import random"
      ],
      "execution_count": 0,
      "outputs": []
    },
    {
      "metadata": {
        "id": "8YW8q8V6IvCg",
        "colab_type": "text"
      },
      "cell_type": "markdown",
      "source": [
        "# Reading of the BX-Book-Ratings.csv Dataset"
      ]
    },
    {
      "metadata": {
        "id": "sW2iiriYI1pZ",
        "colab_type": "code",
        "colab": {
          "autoexec": {
            "startup": false,
            "wait_interval": 0
          },
          "base_uri": "https://localhost:8080/",
          "height": 71
        },
        "outputId": "979c1768-075e-4b36-93af-489ca2e3d5a7",
        "executionInfo": {
          "status": "ok",
          "timestamp": 1524535848123,
          "user_tz": 240,
          "elapsed": 4045,
          "user": {
            "displayName": "Rachit Saluja",
            "photoUrl": "https://lh3.googleusercontent.com/a/default-user=s128",
            "userId": "117188840598763467877"
          }
        }
      },
      "cell_type": "code",
      "source": [
        "## Reading the CSV File.\n",
        "\n",
        "# Reading this CSV is done a liitle differently as there is \";\" instead \",\"(Comma).\n",
        "# Postprocessing to make the proper Dataframe is in the next Cell. \n",
        "\n",
        "df = pd.read_csv('BX-Book-Ratings.csv',sep='delimiter') # Reading the CSV File"
      ],
      "execution_count": 3,
      "outputs": [
        {
          "output_type": "stream",
          "text": [
            "/usr/local/lib/python3.6/dist-packages/ipykernel_launcher.py:2: ParserWarning: Falling back to the 'python' engine because the 'c' engine does not support regex separators (separators > 1 char and different from '\\s+' are interpreted as regex); you can avoid this warning by specifying engine='python'.\n",
            "  \n"
          ],
          "name": "stderr"
        }
      ]
    },
    {
      "metadata": {
        "id": "XV54zZ1QI7-E",
        "colab_type": "code",
        "colab": {
          "autoexec": {
            "startup": false,
            "wait_interval": 0
          }
        }
      },
      "cell_type": "code",
      "source": [
        "## Preprocessing to form the proper Dataset.\n",
        "\n",
        "series = df['\"User-ID\";\"ISBN\";\"Book-Rating\"'].astype(str)  # Converting into Series to perform the operations\n",
        "\n",
        "df = pd.DataFrame(series.str.split(';',expand=True)) # Splitting the Series(strings) with a delimeter (';')\n",
        "\n",
        "df.columns = ['User-ID', 'ISBN', 'Ratings'] # Changing the Column Name"
      ],
      "execution_count": 0,
      "outputs": []
    },
    {
      "metadata": {
        "id": "SPkbNQX3I9DD",
        "colab_type": "code",
        "colab": {
          "autoexec": {
            "startup": false,
            "wait_interval": 0
          }
        }
      },
      "cell_type": "code",
      "source": [
        "## Removing the  '\"\"' from each column and converting them into intergers. \n",
        "\n",
        "df['User-ID'] = df['User-ID'].map(lambda x: x.lstrip('\"').rstrip('\"'))\n",
        "df['ISBN'] = df['ISBN'].map(lambda x: x.lstrip('\"').rstrip('\"'))\n",
        "df['Ratings'] = df['Ratings'].map(lambda x: x.lstrip('\"').rstrip('\"'))\n",
        "\n",
        "df['User-ID'] = df['User-ID'].astype(int)\n",
        "df['Ratings'] = df['Ratings'].astype(int)\n",
        "df['ISBN'] = df['ISBN'].astype(str)"
      ],
      "execution_count": 0,
      "outputs": []
    },
    {
      "metadata": {
        "id": "UeRAFehRI--D",
        "colab_type": "code",
        "colab": {
          "autoexec": {
            "startup": false,
            "wait_interval": 0
          },
          "base_uri": "https://localhost:8080/",
          "height": 204
        },
        "outputId": "6181a8a3-3d34-4cb7-df89-e6a98066230d",
        "executionInfo": {
          "status": "ok",
          "timestamp": 1524535865460,
          "user_tz": 240,
          "elapsed": 258,
          "user": {
            "displayName": "Rachit Saluja",
            "photoUrl": "https://lh3.googleusercontent.com/a/default-user=s128",
            "userId": "117188840598763467877"
          }
        }
      },
      "cell_type": "code",
      "source": [
        "## Outputting the Ratings Data Frame\n",
        "\n",
        "ratings_df = df\n",
        "\n",
        "ratings_df.head()"
      ],
      "execution_count": 6,
      "outputs": [
        {
          "output_type": "execute_result",
          "data": {
            "text/html": [
              "<div>\n",
              "<style scoped>\n",
              "    .dataframe tbody tr th:only-of-type {\n",
              "        vertical-align: middle;\n",
              "    }\n",
              "\n",
              "    .dataframe tbody tr th {\n",
              "        vertical-align: top;\n",
              "    }\n",
              "\n",
              "    .dataframe thead th {\n",
              "        text-align: right;\n",
              "    }\n",
              "</style>\n",
              "<table border=\"1\" class=\"dataframe\">\n",
              "  <thead>\n",
              "    <tr style=\"text-align: right;\">\n",
              "      <th></th>\n",
              "      <th>User-ID</th>\n",
              "      <th>ISBN</th>\n",
              "      <th>Ratings</th>\n",
              "    </tr>\n",
              "  </thead>\n",
              "  <tbody>\n",
              "    <tr>\n",
              "      <th>0</th>\n",
              "      <td>276725</td>\n",
              "      <td>034545104X</td>\n",
              "      <td>0</td>\n",
              "    </tr>\n",
              "    <tr>\n",
              "      <th>1</th>\n",
              "      <td>276726</td>\n",
              "      <td>0155061224</td>\n",
              "      <td>5</td>\n",
              "    </tr>\n",
              "    <tr>\n",
              "      <th>2</th>\n",
              "      <td>276727</td>\n",
              "      <td>0446520802</td>\n",
              "      <td>0</td>\n",
              "    </tr>\n",
              "    <tr>\n",
              "      <th>3</th>\n",
              "      <td>276729</td>\n",
              "      <td>052165615X</td>\n",
              "      <td>3</td>\n",
              "    </tr>\n",
              "    <tr>\n",
              "      <th>4</th>\n",
              "      <td>276729</td>\n",
              "      <td>0521795028</td>\n",
              "      <td>6</td>\n",
              "    </tr>\n",
              "  </tbody>\n",
              "</table>\n",
              "</div>"
            ],
            "text/plain": [
              "   User-ID        ISBN  Ratings\n",
              "0   276725  034545104X        0\n",
              "1   276726  0155061224        5\n",
              "2   276727  0446520802        0\n",
              "3   276729  052165615X        3\n",
              "4   276729  0521795028        6"
            ]
          },
          "metadata": {
            "tags": []
          },
          "execution_count": 6
        }
      ]
    },
    {
      "metadata": {
        "id": "LOIDPoytJklO",
        "colab_type": "code",
        "colab": {
          "autoexec": {
            "startup": false,
            "wait_interval": 0
          },
          "base_uri": "https://localhost:8080/",
          "height": 34
        },
        "outputId": "f0c8473c-b2ad-41c8-aba1-bf83623c1694",
        "executionInfo": {
          "status": "ok",
          "timestamp": 1524535868082,
          "user_tz": 240,
          "elapsed": 241,
          "user": {
            "displayName": "Rachit Saluja",
            "photoUrl": "https://lh3.googleusercontent.com/a/default-user=s128",
            "userId": "117188840598763467877"
          }
        }
      },
      "cell_type": "code",
      "source": [
        "print(ratings_df.shape)"
      ],
      "execution_count": 7,
      "outputs": [
        {
          "output_type": "stream",
          "text": [
            "(1149780, 3)\n"
          ],
          "name": "stdout"
        }
      ]
    },
    {
      "metadata": {
        "id": "LfUXyI9kJWCa",
        "colab_type": "text"
      },
      "cell_type": "markdown",
      "source": [
        "# Filtering the Dataset to a Small Dataset\n",
        "\n",
        "## Users with less than 200 ratings and books with less than 100 ratings are excluded"
      ]
    },
    {
      "metadata": {
        "id": "a88oYQ1MJUkj",
        "colab_type": "code",
        "colab": {
          "autoexec": {
            "startup": false,
            "wait_interval": 0
          },
          "base_uri": "https://localhost:8080/",
          "height": 204
        },
        "outputId": "b177af0e-47d9-4e0b-eec1-4f0164f46b01",
        "executionInfo": {
          "status": "ok",
          "timestamp": 1524535874504,
          "user_tz": 240,
          "elapsed": 335,
          "user": {
            "displayName": "Rachit Saluja",
            "photoUrl": "https://lh3.googleusercontent.com/a/default-user=s128",
            "userId": "117188840598763467877"
          }
        }
      },
      "cell_type": "code",
      "source": [
        "## Filtering out impotant books to make the dataset smaller\n",
        "\n",
        "# users with less than 200 ratings and books with less than 100 ratings are excluded\n",
        "\n",
        "c = ratings_df['User-ID'].value_counts()\n",
        "\n",
        "ratings_df = ratings_df[ratings_df['User-ID'].isin(c[c >= 200].index)]\n",
        "\n",
        "c = ratings_df['Ratings'].value_counts()\n",
        "\n",
        "ratings_df = ratings_df[ratings_df['Ratings'].isin(c[c >= 100].index)]\n",
        "\n",
        "ratings_df.head()"
      ],
      "execution_count": 8,
      "outputs": [
        {
          "output_type": "execute_result",
          "data": {
            "text/html": [
              "<div>\n",
              "<style scoped>\n",
              "    .dataframe tbody tr th:only-of-type {\n",
              "        vertical-align: middle;\n",
              "    }\n",
              "\n",
              "    .dataframe tbody tr th {\n",
              "        vertical-align: top;\n",
              "    }\n",
              "\n",
              "    .dataframe thead th {\n",
              "        text-align: right;\n",
              "    }\n",
              "</style>\n",
              "<table border=\"1\" class=\"dataframe\">\n",
              "  <thead>\n",
              "    <tr style=\"text-align: right;\">\n",
              "      <th></th>\n",
              "      <th>User-ID</th>\n",
              "      <th>ISBN</th>\n",
              "      <th>Ratings</th>\n",
              "    </tr>\n",
              "  </thead>\n",
              "  <tbody>\n",
              "    <tr>\n",
              "      <th>1456</th>\n",
              "      <td>277427</td>\n",
              "      <td>002542730X</td>\n",
              "      <td>10</td>\n",
              "    </tr>\n",
              "    <tr>\n",
              "      <th>1457</th>\n",
              "      <td>277427</td>\n",
              "      <td>0026217457</td>\n",
              "      <td>0</td>\n",
              "    </tr>\n",
              "    <tr>\n",
              "      <th>1458</th>\n",
              "      <td>277427</td>\n",
              "      <td>003008685X</td>\n",
              "      <td>8</td>\n",
              "    </tr>\n",
              "    <tr>\n",
              "      <th>1459</th>\n",
              "      <td>277427</td>\n",
              "      <td>0030615321</td>\n",
              "      <td>0</td>\n",
              "    </tr>\n",
              "    <tr>\n",
              "      <th>1460</th>\n",
              "      <td>277427</td>\n",
              "      <td>0060002050</td>\n",
              "      <td>0</td>\n",
              "    </tr>\n",
              "  </tbody>\n",
              "</table>\n",
              "</div>"
            ],
            "text/plain": [
              "      User-ID        ISBN  Ratings\n",
              "1456   277427  002542730X       10\n",
              "1457   277427  0026217457        0\n",
              "1458   277427  003008685X        8\n",
              "1459   277427  0030615321        0\n",
              "1460   277427  0060002050        0"
            ]
          },
          "metadata": {
            "tags": []
          },
          "execution_count": 8
        }
      ]
    },
    {
      "metadata": {
        "id": "ech8rKApJuo_",
        "colab_type": "code",
        "colab": {
          "autoexec": {
            "startup": false,
            "wait_interval": 0
          },
          "base_uri": "https://localhost:8080/",
          "height": 34
        },
        "outputId": "43a420fe-2b09-465c-910c-4477290e3cbf",
        "executionInfo": {
          "status": "ok",
          "timestamp": 1524535912813,
          "user_tz": 240,
          "elapsed": 225,
          "user": {
            "displayName": "Rachit Saluja",
            "photoUrl": "https://lh3.googleusercontent.com/a/default-user=s128",
            "userId": "117188840598763467877"
          }
        }
      },
      "cell_type": "code",
      "source": [
        "print(ratings_df.shape)"
      ],
      "execution_count": 9,
      "outputs": [
        {
          "output_type": "stream",
          "text": [
            "(527556, 3)\n"
          ],
          "name": "stdout"
        }
      ]
    },
    {
      "metadata": {
        "id": "zT2h4LiXJ5Kk",
        "colab_type": "text"
      },
      "cell_type": "markdown",
      "source": [
        "# Number of Users & Books"
      ]
    },
    {
      "metadata": {
        "id": "oky4xxzdJ4TU",
        "colab_type": "code",
        "colab": {
          "autoexec": {
            "startup": false,
            "wait_interval": 0
          },
          "base_uri": "https://localhost:8080/",
          "height": 51
        },
        "outputId": "7170d2dd-0369-42d3-8f86-0e282707d019",
        "executionInfo": {
          "status": "ok",
          "timestamp": 1524535915510,
          "user_tz": 240,
          "elapsed": 235,
          "user": {
            "displayName": "Rachit Saluja",
            "photoUrl": "https://lh3.googleusercontent.com/a/default-user=s128",
            "userId": "117188840598763467877"
          }
        }
      },
      "cell_type": "code",
      "source": [
        "num_users = ratings_df['User-ID'].unique().shape[0]\n",
        "num_books = ratings_df['ISBN'].unique().shape[0]\n",
        "print(str(num_users) + ' users')\n",
        "print(str(num_books) + ' books')"
      ],
      "execution_count": 10,
      "outputs": [
        {
          "output_type": "stream",
          "text": [
            "905 users\n",
            "207699 books\n"
          ],
          "name": "stdout"
        }
      ]
    },
    {
      "metadata": {
        "id": "d3jDPAxCKOC6",
        "colab_type": "text"
      },
      "cell_type": "markdown",
      "source": [
        "# Splitting of Training and Testing Dataset"
      ]
    },
    {
      "metadata": {
        "id": "3NOjuUK1KEWJ",
        "colab_type": "code",
        "colab": {
          "autoexec": {
            "startup": false,
            "wait_interval": 0
          }
        }
      },
      "cell_type": "code",
      "source": [
        "## For Splitting the data based on percentage\n",
        "\n",
        "def data_splitter(ratings_df, percentage):\n",
        "    m,n = ratings_df.shape\n",
        "    V = round(m*(100-percentage)/100)\n",
        "    A = ratings_df.copy()\n",
        "    \n",
        "    if percentage == 100:\n",
        "        return A\n",
        "    \n",
        "    \n",
        "    a = random.sample(range(ratings_df.shape[0]),V)\n",
        "    \n",
        "    A['Ratings'].iloc[a] = np.nan\n",
        "    \n",
        "    return A\n",
        "  \n",
        "def train_test_split(ratings_df,percentage):\n",
        "  m,n = ratings_df.shape\n",
        "  V = round(m*(100-percentage)/100)\n",
        "  train = ratings_df.copy()\n",
        "\n",
        "\n",
        "  a = random.sample(range(ratings_df.shape[0]),int(V))\n",
        "\n",
        "  train['Ratings'].iloc[a] = np.nan\n",
        "  \n",
        "  \n",
        "  test = train.copy()\n",
        "\n",
        "  test = test.fillna(1000)\n",
        "  \n",
        "  test.ix[test['Ratings'] < 15, 'Ratings'] = np.nan\n",
        "\n",
        "  test.ix[test['Ratings'] == 1000, 'Ratings'] = 0\n",
        "  \n",
        "  test['Ratings'] = test['Ratings'] + ratings_df['Ratings']\n",
        "  \n",
        "  \n",
        "  return train,test"
      ],
      "execution_count": 0,
      "outputs": []
    },
    {
      "metadata": {
        "id": "gknin2i0Kvw0",
        "colab_type": "code",
        "colab": {
          "autoexec": {
            "startup": false,
            "wait_interval": 0
          },
          "base_uri": "https://localhost:8080/",
          "height": 255
        },
        "outputId": "b3038f0a-3446-4b37-8ea5-147dc6118135",
        "executionInfo": {
          "status": "ok",
          "timestamp": 1524535979926,
          "user_tz": 240,
          "elapsed": 650,
          "user": {
            "displayName": "Rachit Saluja",
            "photoUrl": "https://lh3.googleusercontent.com/a/default-user=s128",
            "userId": "117188840598763467877"
          }
        }
      },
      "cell_type": "code",
      "source": [
        "## Training Data (75%) of the Data\n",
        "\n",
        "train_df,test_df = train_test_split(ratings_df, 75)\n",
        "\n",
        "print(train_df.shape)\n",
        "\n",
        "print(test_df.shape)\n"
      ],
      "execution_count": 14,
      "outputs": [
        {
          "output_type": "stream",
          "text": [
            "(527556, 3)\n",
            "(527556, 3)\n"
          ],
          "name": "stdout"
        },
        {
          "output_type": "stream",
          "text": [
            "/usr/local/lib/python3.6/dist-packages/pandas/core/indexing.py:194: SettingWithCopyWarning: \n",
            "A value is trying to be set on a copy of a slice from a DataFrame\n",
            "\n",
            "See the caveats in the documentation: http://pandas.pydata.org/pandas-docs/stable/indexing.html#indexing-view-versus-copy\n",
            "  self._setitem_with_indexer(indexer, value)\n",
            "/usr/local/lib/python3.6/dist-packages/ipykernel_launcher.py:32: DeprecationWarning: \n",
            ".ix is deprecated. Please use\n",
            ".loc for label based indexing or\n",
            ".iloc for positional indexing\n",
            "\n",
            "See the documentation here:\n",
            "http://pandas.pydata.org/pandas-docs/stable/indexing.html#ix-indexer-is-deprecated\n"
          ],
          "name": "stderr"
        }
      ]
    },
    {
      "metadata": {
        "id": "ajn8wZ0ELnMq",
        "colab_type": "text"
      },
      "cell_type": "markdown",
      "source": [
        "# User Based Similarity Function"
      ]
    },
    {
      "metadata": {
        "id": "hyOvCBiHLmX6",
        "colab_type": "code",
        "colab": {
          "autoexec": {
            "startup": false,
            "wait_interval": 0
          }
        }
      },
      "cell_type": "code",
      "source": [
        "## Function for User-Based Recommendations\n",
        "\n",
        "def UB_Reco(ratings_mat):\n",
        "    print('The User-Based Recommendations Framework begins...')\n",
        "    user_similarity = pairwise_distances(ratings_mat, metric='cosine')\n",
        "    mean_user_rating = ratings_mat.mean(axis=1)\n",
        "    ratings_diff = (ratings_mat - mean_user_rating[:, np.newaxis])\n",
        "    pred = mean_user_rating[:, np.newaxis] + user_similarity.dot(ratings_diff) / np.array([np.abs(user_similarity).sum(axis=1)]).T\n",
        "    print('The User-Based Recommendations Framework ends!')\n",
        "    return pred"
      ],
      "execution_count": 0,
      "outputs": []
    },
    {
      "metadata": {
        "id": "4u5fLX8YMVG9",
        "colab_type": "text"
      },
      "cell_type": "markdown",
      "source": [
        "# MSE Calculation Function"
      ]
    },
    {
      "metadata": {
        "id": "GQmKSmFnMUNu",
        "colab_type": "code",
        "colab": {
          "autoexec": {
            "startup": false,
            "wait_interval": 0
          }
        }
      },
      "cell_type": "code",
      "source": [
        "## Function for MSE\n",
        "\n",
        "def error(prediction, original):\n",
        "    prediction = prediction[original.nonzero()].flatten()\n",
        "    original = original[original.nonzero()].flatten()\n",
        "    err = sqrt(mean_squared_error(prediction, original))\n",
        "    print('Error is :'+ str(err))\n",
        "    return err "
      ],
      "execution_count": 0,
      "outputs": []
    },
    {
      "metadata": {
        "id": "daO5bxpQNDCc",
        "colab_type": "text"
      },
      "cell_type": "markdown",
      "source": [
        "# Implementation of User-Based Recommendations Framework"
      ]
    },
    {
      "metadata": {
        "id": "seP_P2r0M9Dc",
        "colab_type": "code",
        "colab": {
          "autoexec": {
            "startup": false,
            "wait_interval": 0
          },
          "base_uri": "https://localhost:8080/",
          "height": 85
        },
        "outputId": "315d4fc3-5e7c-407e-f617-71073dd63df4",
        "executionInfo": {
          "status": "ok",
          "timestamp": 1524536018623,
          "user_tz": 240,
          "elapsed": 14969,
          "user": {
            "displayName": "Rachit Saluja",
            "photoUrl": "https://lh3.googleusercontent.com/a/default-user=s128",
            "userId": "117188840598763467877"
          }
        }
      },
      "cell_type": "code",
      "source": [
        "## Conversion of DataFrame to Matrix\n",
        "\n",
        "train_mat = train_df.pivot(index ='User-ID', columns ='ISBN', values ='Ratings').fillna(0).values\n",
        "\n",
        "## Conversion of DataFrame to Matrix\n",
        "\n",
        "test_mat = test_df.pivot(index ='User-ID', columns ='ISBN', values ='Ratings').fillna(0).values\n",
        "\n",
        "print(train_mat.shape)\n",
        "print(type(train_mat))\n",
        "print(test_mat.shape)\n",
        "print(type(test_mat))"
      ],
      "execution_count": 17,
      "outputs": [
        {
          "output_type": "stream",
          "text": [
            "(905, 207699)\n",
            "<class 'numpy.ndarray'>\n",
            "(905, 207699)\n",
            "<class 'numpy.ndarray'>\n"
          ],
          "name": "stdout"
        }
      ]
    },
    {
      "metadata": {
        "id": "gHG8sfeMOD2g",
        "colab_type": "code",
        "colab": {
          "autoexec": {
            "startup": false,
            "wait_interval": 0
          },
          "base_uri": "https://localhost:8080/",
          "height": 51
        },
        "outputId": "6923bca7-a767-4f85-a14a-bdc4a1280c75",
        "executionInfo": {
          "status": "ok",
          "timestamp": 1524536072560,
          "user_tz": 240,
          "elapsed": 23945,
          "user": {
            "displayName": "Rachit Saluja",
            "photoUrl": "https://lh3.googleusercontent.com/a/default-user=s128",
            "userId": "117188840598763467877"
          }
        }
      },
      "cell_type": "code",
      "source": [
        "## Performing the predictions\n",
        "\n",
        "pred = UB_Reco(train_mat)"
      ],
      "execution_count": 18,
      "outputs": [
        {
          "output_type": "stream",
          "text": [
            "The User-Based Recommendations Framework begins...\n",
            "The User-Based Recommendations Framework ends!\n"
          ],
          "name": "stdout"
        }
      ]
    },
    {
      "metadata": {
        "id": "Y64J80CRO2p4",
        "colab_type": "code",
        "colab": {
          "autoexec": {
            "startup": false,
            "wait_interval": 0
          },
          "base_uri": "https://localhost:8080/",
          "height": 51
        },
        "outputId": "df09e5c7-0671-4091-9409-cbdbd85129f9",
        "executionInfo": {
          "status": "ok",
          "timestamp": 1524536096171,
          "user_tz": 240,
          "elapsed": 9665,
          "user": {
            "displayName": "Rachit Saluja",
            "photoUrl": "https://lh3.googleusercontent.com/a/default-user=s128",
            "userId": "117188840598763467877"
          }
        }
      },
      "cell_type": "code",
      "source": [
        "print('User-based Recommendation Framework RMSE: ' + str(error(pred, test_mat)))"
      ],
      "execution_count": 19,
      "outputs": [
        {
          "output_type": "stream",
          "text": [
            "Error is :7.956127736248474\n",
            "User-based Recommendation Framework RMSE: 7.956127736248474\n"
          ],
          "name": "stdout"
        }
      ]
    }
  ]
}